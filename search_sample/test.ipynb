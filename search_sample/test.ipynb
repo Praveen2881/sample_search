{
 "cells": [
  {
   "cell_type": "markdown",
   "id": "60ca29a0",
   "metadata": {},
   "source": [
    "flowchart LR\n",
    "    subgraph Azure\n",
    "        EG(Event Grid) --> JM(Job Manager)\n",
    "        JM --> SB[Service Bus Queue]\n",
    "        SB --> W1[Document Processor Worker]\n",
    "        W1 --> JSONBlob[Processed JSON in Blob]\n",
    "        W1 --> SB2[Service Bus Queue - Embedding]\n",
    "        SB2 --> W2[Embedding Worker]\n",
    "        W2 --> MosaicDB[(MosaicDB Vector Store)]\n",
    "    end\n",
    "\n",
    "    U(User) -->|Query + Filters| SearchAPI\n",
    "    SearchAPI --> MosaicDB"
   ]
  },
  {
   "cell_type": "markdown",
   "id": "7a7f029e",
   "metadata": {},
   "source": [
    "flowchart TD\n",
    "    A[Azure Blob Storage] -- New Document --> B[Event Grid]\n",
    "    B -- Event Trigger --> C[job_manager (Event Grid Trigger)]\n",
    "    C -->|Blob info JSON| D[Azure Service Bus Queue]\n",
    "    D --> E[worker (Service Bus Trigger)]\n",
    "    E -->|Choose processor| F1[pdf_processor.py]\n",
    "    E -->|Choose processor| F2[docx_processor.py]\n",
    "    F1 --> G[Blob JSON Upload (processed text + metadata)]\n",
    "    F2 --> G\n",
    "    G --> H[chunk_embed_processor.py]\n",
    "    H --> I[MosaicDB Vector Store]\n",
    "    I --> J[Search API - Vector + Metadata filter]\n"
   ]
  },
  {
   "cell_type": "markdown",
   "id": "833a6ef3",
   "metadata": {},
   "source": [
    "project_root/\n",
    "│\n",
    "├── main.py\n",
    "├── config.py\n",
    "├── config.yaml\n",
    "│\n",
    "├── db/\n",
    "│   ├── base.py\n",
    "│   ├── crud.py\n",
    "│   ├── models.py\n",
    "│   ├── session.py\n",
    "│\n",
    "├── functions/\n",
    "│   ├── diverter_function.py\n",
    "│   ├── processor_pdf.py\n",
    "│   ├── processor_docx.py\n",
    "│   └── ...\n",
    "│\n",
    "├── utils/\n",
    "│   ├── blob_utils.py\n",
    "│   ├── embedding_utils.py\n",
    "│   ├── logging_utils.py\n",
    "│   ├── servicebus_utils.py\n",
    "│\n",
    "├── job_manager/\n",
    "│   ├── __init__.py   ← Azure Function entry point\n",
    "│   ├── function.json ← Azure Function trigger config\n",
    "│\n",
    "└── requirements.txt\n"
   ]
  },
  {
   "cell_type": "code",
   "execution_count": null,
   "id": "b888292e",
   "metadata": {},
   "outputs": [],
   "source": [
    "# If run locally for testing ------------------------------------------------\n",
    "if __name__ == \"__main__\":\n",
    "    # example local test (simulate Event Grid payload)\n",
    "    sample_event = [{\n",
    "        \"eventType\": \"Microsoft.Storage.BlobCreated\",\n",
    "        \"subject\": \"/blobServices/default/containers/test-container/blobs/test-folder/sample.pdf\",\n",
    "        \"data\": {\n",
    "            \"api\": \"PutBlob\",\n",
    "            \"clientRequestId\": \"xxx\",\n",
    "            \"requestId\": \"yyy\",\n",
    "            \"eTag\": \"0x8D8123456789AB\",\n",
    "            \"contentType\": \"application/pdf\",\n",
    "            \"contentLength\": 12345,\n",
    "            \"blobType\": \"BlockBlob\",\n",
    "            \"url\": \"https://account.blob.core.windows.net/test-container/test-folder/sample.pdf\"\n",
    "        }\n",
    "    }]\n",
    "\n",
    "    print(\"Simulating Event Grid event -> job_manager\")\n",
    "    res = http_eventgrid_handler(sample_event)\n",
    "    print(json.dumps(res, indent=2))"
   ]
  }
 ],
 "metadata": {
  "language_info": {
   "name": "python"
  }
 },
 "nbformat": 4,
 "nbformat_minor": 5
}
